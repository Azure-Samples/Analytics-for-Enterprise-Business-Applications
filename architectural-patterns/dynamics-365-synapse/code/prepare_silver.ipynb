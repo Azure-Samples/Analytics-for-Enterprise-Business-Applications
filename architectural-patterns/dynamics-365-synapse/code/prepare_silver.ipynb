{
  "nbformat": 4,
  "nbformat_minor": 2,
  "cells": [
    {
      "cell_type": "markdown",
      "metadata": {
        "nteract": {
          "transient": {
            "deleting": false
          }
        }
      },
      "source": [
        "# Prepare SILVER\r\n",
        "\r\n",
        ""
      ]
    },
    {
      "cell_type": "code",
      "execution_count": 1,
      "outputs": [],
      "metadata": {
        "jupyter": {
          "source_hidden": false,
          "outputs_hidden": false
        },
        "nteract": {
          "transient": {
            "deleting": false
          }
        },
        "microsoft": {}
      },
      "source": [
        "# Spark Config\r\n",
        "\r\n",
        "spark.conf.set(\"fs.azure.account.auth.type\", \"SAS\")\r\n",
        "spark.conf.set(\"fs.azure.sas.token.provider.type\", \"com.microsoft.azure.synapse.tokenlibrary.ConfBasedSASProvider\")\r\n",
        "spark.conf.set(\"spark.storage.synapse.sas\", \"?sv=2021-12-02&ss=bfqt&srt=sco&sp=rwdlacupyx&se=2023-08-29T21:29:15Z&st=2023-03-23T12:29:15Z&spr=https&sig=ghlTFjtWaYvdXVmKQJj8uM5gt4C5P9bhuuRsoo7Y4sk%3D\")\r\n",
        "\r\n",
        "storage_account_name = \"stgd365analytics\"\r\n",
        ""
      ]
    },
    {
      "cell_type": "code",
      "execution_count": 4,
      "outputs": [],
      "metadata": {
        "jupyter": {
          "source_hidden": false,
          "outputs_hidden": false
        },
        "nteract": {
          "transient": {
            "deleting": false
          }
        }
      },
      "source": [
        "from pyspark.sql.functions import col\r\n",
        "from datetime import datetime\r\n",
        "\r\n",
        "dataverse_customer_table_name = 'crc33_customer'\r\n",
        "bronze_container_name = 'bronze'\r\n",
        "silver_container_name = 'silver'\r\n",
        "partition_date = datetime.now().strftime(\"%Y-%m-%d\")\r\n",
        "\r\n",
        "raw_table_df = spark.read.option(\"header\", \"true\").option(\"multiLine\", \"true\").csv(f\"abfss://{bronze_container_name}@{storage_account_name}.dfs.core.windows.net/{dataverse_customer_table_name}/{partition_date}\")\r\n",
        "\r\n",
        "raw_table_df = raw_table_df.withColumnRenamed(\"crc33_postcode\", \"PostCode\")\r\n",
        "raw_table_df = raw_table_df.withColumnRenamed(\"crc33_state\", \"State\")\r\n",
        "raw_table_df = raw_table_df.withColumnRenamed(\"crc33_lastname\", \"LastName\")\r\n",
        "raw_table_df = raw_table_df.withColumnRenamed(\"crc33_country\", \"Country\")\r\n",
        "raw_table_df = raw_table_df.withColumnRenamed(\"crc33_gender\", \"Gender\")\r\n",
        "raw_table_df = raw_table_df.withColumnRenamed(\"crc33_streetaddress\", \"StreetAddress\")\r\n",
        "raw_table_df = raw_table_df.withColumnRenamed(\"crc33_name\", \"Name\")\r\n",
        "raw_table_df = raw_table_df.withColumnRenamed(\"crc33_telephone\", \"Telephone\")\r\n",
        "raw_table_df = raw_table_df.withColumnRenamed(\"crc33_dateofbirth\", \"DateOfBirth\")\r\n",
        "raw_table_df = raw_table_df.withColumnRenamed(\"crc33_city\", \"City\")\r\n",
        "raw_table_df = raw_table_df.withColumnRenamed(\"crc33_firstname\", \"FirstName\")\r\n",
        "raw_table_df = raw_table_df.withColumnRenamed(\"crc33_email\", \"Email\")\r\n",
        "raw_table_df = raw_table_df.withColumnRenamed(\"crc33_cid\", \"cid\")\r\n",
        "\r\n",
        "silver_table_df = raw_table_df.select(col(\"cid\"),col(\"postcode\"), col(\"state\"),col(\"lastname\"),col(\"country\"),col(\"gender\"),col(\"streetaddress\"),col(\"name\"),col(\"telephone\"),col(\"dateofbirth\"),col(\"city\"),col(\"firstname\"),col(\"email\"))\r\n",
        "\r\n",
        "silver_table_df.write.mode('append').parquet(f\"abfss://{silver_container_name}@{storage_account_name}.dfs.core.windows.net/{dataverse_customer_table_name}\")"
      ]
    },
    {
      "cell_type": "code",
      "execution_count": 6,
      "outputs": [],
      "metadata": {
        "jupyter": {
          "source_hidden": false,
          "outputs_hidden": false
        },
        "nteract": {
          "transient": {
            "deleting": false
          }
        }
      },
      "source": [
        "customer_spend_table_name = 'customer_spend'\r\n",
        "\r\n",
        "customer_spend_df = spark.read.option(\"header\", \"true\").csv(f\"abfss://{bronze_container_name}@{storage_account_name}.dfs.core.windows.net/{customer_spend_table_name}\")\r\n",
        "customer_spend_df.write.mode('append').parquet(f\"abfss://{silver_container_name}@{storage_account_name}.dfs.core.windows.net/{customer_spend_table_name}\")"
      ]
    }
  ],
  "metadata": {
    "description": null,
    "save_output": true,
    "kernelspec": {
      "name": "synapse_pyspark",
      "display_name": "Synapse PySpark"
    },
    "language_info": {
      "name": "python"
    }
  }
}