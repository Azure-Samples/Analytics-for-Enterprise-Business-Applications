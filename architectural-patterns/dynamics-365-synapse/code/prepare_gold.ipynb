{
  "cells": [
    {
      "cell_type": "markdown",
      "metadata": {
        "nteract": {
          "transient": {
            "deleting": false
          }
        }
      },
      "source": [
        "# Prepare SILVER\n",
        "\n"
      ]
    },
    {
      "cell_type": "code",
      "execution_count": 3,
      "metadata": {
        "jupyter": {
          "outputs_hidden": false,
          "source_hidden": false
        },
        "microsoft": {},
        "nteract": {
          "transient": {
            "deleting": false
          }
        }
      },
      "outputs": [],
      "source": [
        "# Spark Config\n",
        "\n",
        "spark.conf.set(\"fs.azure.account.auth.type\", \"SAS\")\n",
        "spark.conf.set(\"fs.azure.sas.token.provider.type\", \"com.microsoft.azure.synapse.tokenlibrary.ConfBasedSASProvider\")\n",
        "spark.conf.set(\"spark.storage.synapse.sas\", \"\")\n",
        "\n",
        "storage_account_name = \"stgd365analytics\"\n"
      ]
    },
    {
      "cell_type": "code",
      "execution_count": 10,
      "metadata": {
        "jupyter": {
          "outputs_hidden": false,
          "source_hidden": false
        },
        "nteract": {
          "transient": {
            "deleting": false
          }
        }
      },
      "outputs": [],
      "source": [
        "from pyspark.sql.functions import col\n",
        "from datetime import datetime\n",
        "\n",
        "dataverse_customer_table_name = 'crc33_customer'\n",
        "customer_spend = 'customer_spend'\n",
        "silver_container_name = 'silver'\n",
        "gold_customer_table_name = 'customer'\n",
        "gold_container_name = 'gold'\n",
        "partition_date = datetime.now().strftime(\"%Y-%m-%d\")\n",
        "\n",
        "customer_spend_df = spark.read.parquet(f\"abfss://{silver_container_name}@{storage_account_name}.dfs.core.windows.net/{customer_spend}\")\n",
        "dataverse_customer_df = spark.read.parquet(f\"abfss://{silver_container_name}@{storage_account_name}.dfs.core.windows.net/{dataverse_customer_table_name}\")\n",
        "\n",
        "customer_df = dataverse_customer_df.join(customer_spend_df,dataverse_customer_df.cid ==  customer_spend_df.cid,\"inner\").drop(customer_spend_df.cid)\n",
        "\n",
        "customer_df.write.mode('append').parquet(f\"abfss://{gold_container_name}@{storage_account_name}.dfs.core.windows.net/{gold_customer_table_name}\")"
      ]
    }
  ],
  "metadata": {
    "description": null,
    "kernelspec": {
      "display_name": "Synapse PySpark",
      "name": "synapse_pyspark"
    },
    "language_info": {
      "name": "python"
    },
    "save_output": true
  },
  "nbformat": 4,
  "nbformat_minor": 2
}
