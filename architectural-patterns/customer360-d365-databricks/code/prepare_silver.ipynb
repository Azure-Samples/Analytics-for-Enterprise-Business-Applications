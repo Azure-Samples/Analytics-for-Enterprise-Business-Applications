{
 "cells": [
  {
   "cell_type": "code",
   "execution_count": null,
   "metadata": {
    "application/vnd.databricks.v1+cell": {
     "cellMetadata": {},
     "inputWidgets": {},
     "nuid": "45798058-6eeb-4dc2-b398-e893fe571a49",
     "showTitle": true,
     "title": "Prepare SILVER"
    }
   },
   "outputs": [],
   "source": []
  },
  {
   "cell_type": "code",
   "execution_count": null,
   "metadata": {
    "application/vnd.databricks.v1+cell": {
     "cellMetadata": {
      "byteLimit": 2048000,
      "rowLimit": 10000
     },
     "inputWidgets": {},
     "nuid": "ff4b62dd-c3e9-4a97-bc3c-7b041d635d76",
     "showTitle": true,
     "title": "Spark Config"
    }
   },
   "outputs": [],
   "source": [
    "# configs\n",
    "storage_account_name = \"[storage_account_name]\"\n",
    "tenant_id = \"[tenant_id]\"\n",
    "client_id = \"[client_id]\"\n",
    "client_secret = \"[client_secret]\"\n",
    "\n",
    "# spark configuration options\n",
    "spark.conf.set(f\"fs.azure.account.auth.type.{storage_account_name}.dfs.core.windows.net\",\"OAuth\")\n",
    "spark.conf.set(f\"fs.azure.account.oauth.provider.type.{storage_account_name}.dfs.core.windows.net\", \"org.apache.hadoop.fs.azurebfs.oauth2.ClientCredsTokenProvider\")\n",
    "spark.conf.set(f\"fs.azure.account.oauth2.client.id.{storage_account_name}.dfs.core.windows.net\", client_id)\n",
    "spark.conf.set(f\"fs.azure.account.oauth2.client.secret.{storage_account_name}.dfs.core.windows.net\", client_secret)\n",
    "spark.conf.set(f\"fs.azure.account.oauth2.client.endpoint.{storage_account_name}.dfs.core.windows.net\", f\"https://login.microsoftonline.com/{tenant_id}/oauth2/token\")"
   ]
  },
  {
   "cell_type": "code",
   "execution_count": null,
   "metadata": {
    "application/vnd.databricks.v1+cell": {
     "cellMetadata": {
      "byteLimit": 2048000,
      "rowLimit": 10000
     },
     "inputWidgets": {},
     "nuid": "ce2f6c1d-5409-46d4-b11a-2adb6b7e7033",
     "showTitle": false,
     "title": "Cleansed dataframe from RAW layer, store to SILVER layer"
    }
   },
   "outputs": [],
   "source": [
    "from pyspark.sql.functions import col\n",
    "from datetime import datetime\n",
    "\n",
    "dataverse_customer_table_name = '[dataverse_customer_table_name]'\n",
    "bronze_container_name = 'bronze'\n",
    "silver_container_name = 'silver'\n",
    "partition_date = datetime.now().strftime(\"%Y-%m-%d\")\n",
    "\n",
    "raw_table_df = spark.read.option(\"header\", \"true\").option(\"multiLine\", \"true\").csv(f\"abfss://{bronze_container_name}@{storage_account_name}.dfs.core.windows.net/{dataverse_customer_table_name}/{partition_date}\")\n",
    "\n",
    "raw_table_df = raw_table_df.withColumnRenamed(\"crc33_postcode\", \"PostCode\")\n",
    "raw_table_df = raw_table_df.withColumnRenamed(\"crc33_state\", \"State\")\n",
    "raw_table_df = raw_table_df.withColumnRenamed(\"crc33_lastname\", \"LastName\")\n",
    "raw_table_df = raw_table_df.withColumnRenamed(\"crc33_country\", \"Country\")\n",
    "raw_table_df = raw_table_df.withColumnRenamed(\"crc33_gender\", \"Gender\")\n",
    "raw_table_df = raw_table_df.withColumnRenamed(\"crc33_streetaddress\", \"StreetAddress\")\n",
    "raw_table_df = raw_table_df.withColumnRenamed(\"crc33_name\", \"Name\")\n",
    "raw_table_df = raw_table_df.withColumnRenamed(\"crc33_telephone\", \"Telephone\")\n",
    "raw_table_df = raw_table_df.withColumnRenamed(\"crc33_dateofbirth\", \"DateOfBirth\")\n",
    "raw_table_df = raw_table_df.withColumnRenamed(\"crc33_city\", \"City\")\n",
    "raw_table_df = raw_table_df.withColumnRenamed(\"crc33_firstname\", \"FirstName\")\n",
    "raw_table_df = raw_table_df.withColumnRenamed(\"crc33_email\", \"Email\")\n",
    "raw_table_df = raw_table_df.withColumnRenamed(\"crc33_cid\", \"cid\")\n",
    "\n",
    "silver_table_df = raw_table_df.select(col(\"cid\"),col(\"postcode\"), col(\"state\"),col(\"lastname\"),col(\"country\"),col(\"gender\"),col(\"streetaddress\"),col(\"name\"),col(\"telephone\"),col(\"dateofbirth\"),col(\"city\"),col(\"firstname\"),col(\"email\"))\n",
    "\n",
    "silver_table_df.write.mode('append').parquet(f\"abfss://{silver_container_name}@{storage_account_name}.dfs.core.windows.net/{dataverse_customer_table_name}\")"
   ]
  },
  {
   "cell_type": "code",
   "execution_count": null,
   "metadata": {
    "application/vnd.databricks.v1+cell": {
     "cellMetadata": {
      "byteLimit": 2048000,
      "rowLimit": 10000
     },
     "inputWidgets": {},
     "nuid": "674c3b2c-802d-4df1-92c2-a9ff7666d5b1",
     "showTitle": false,
     "title": "Save to bronze layer with partition"
    }
   },
   "outputs": [],
   "source": [
    "customer_spend_table_name = 'customer_spend'\n",
    "\n",
    "customer_spend_df = spark.read.option(\"header\", \"true\").csv(f\"abfss://{bronze_container_name}@{storage_account_name}.dfs.core.windows.net/{customer_spend_table_name}\")\n",
    "customer_spend_df.write.mode('append').parquet(f\"abfss://{silver_container_name}@{storage_account_name}.dfs.core.windows.net/{customer_spend_table_name}\")"
   ]
  }
 ],
 "metadata": {
  "application/vnd.databricks.v1+notebook": {
   "dashboards": [],
   "language": "python",
   "notebookMetadata": {
    "pythonIndentUnit": 4
   },
   "notebookName": "prepare_silver",
   "notebookOrigID": 2465004003294745,
   "widgets": {}
  },
  "language_info": {
   "name": "python"
  }
 },
 "nbformat": 4,
 "nbformat_minor": 0
}
